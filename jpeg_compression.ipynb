{
 "cells": [
  {
   "cell_type": "code",
   "execution_count": 1,
   "metadata": {
    "collapsed": true
   },
   "outputs": [],
   "source": [
    "from matplotlib import pyplot as plt\n",
    "import matplotlib as mpb\n",
    "import cv2\n",
    "import numpy as np\n",
    "%matplotlib inline"
   ]
  },
  {
   "cell_type": "code",
   "execution_count": 2,
   "metadata": {
    "collapsed": true
   },
   "outputs": [],
   "source": [
    "#Converting to YCbCr color space\n",
    "path=str(input(\"Enter the path of the file to be compressed: \"))\n",
    "img=cv2.imread(path)"
   ]
  },
  {
   "cell_type": "code",
   "execution_count": 3,
   "metadata": {
    "collapsed": true
   },
   "outputs": [],
   "source": [
    "img_YCbCr=cv2.cvtColor(img,cv2.COLOR_BGR2YCR_CB)"
   ]
  },
  {
   "cell_type": "code",
   "execution_count": 4,
   "metadata": {
    "collapsed": false
   },
   "outputs": [
    {
     "name": "stdout",
     "output_type": "stream",
     "text": [
      "<type 'numpy.ndarray'>\n"
     ]
    }
   ],
   "source": [
    "print type(img_YCbCr)"
   ]
  },
  {
   "cell_type": "code",
   "execution_count": 5,
   "metadata": {
    "collapsed": false
   },
   "outputs": [],
   "source": [
    "l=img_YCbCr.shape\n",
    "#Now just pick the Y channel\n",
    "img_Y=np.array(img_YCbCr[:,:,0],dtype=np.float64)"
   ]
  },
  {
   "cell_type": "code",
   "execution_count": 6,
   "metadata": {
    "collapsed": false
   },
   "outputs": [],
   "source": [
    "img_Y=np.array(img_YCbCr,dtype=np.float64)"
   ]
  },
  {
   "cell_type": "code",
   "execution_count": 7,
   "metadata": {
    "collapsed": false
   },
   "outputs": [],
   "source": [
    "#downsampling\n",
    "img_Y[:,:,1]=2*np.round(img_YCbCr[:,:,1]/2)\n",
    "img_Y[:,:,2]=2*np.round(img_YCbCr[:,:,2]/2)"
   ]
  },
  {
   "cell_type": "code",
   "execution_count": 8,
   "metadata": {
    "collapsed": true
   },
   "outputs": [],
   "source": [
    "Q=np.array([[16, 11, 10, 16, 24, 40, 51, 61 ],\n",
    "     [12, 12, 14, 19, 26, 28, 60, 55, ],\n",
    "     [14, 13, 16, 24, 40, 57, 69, 56, ],\n",
    "     [14, 17, 22, 29, 51, 87, 80, 62 ],\n",
    "     [18, 22, 37, 56, 68, 109, 103, 77 ],\n",
    "     [24, 35, 55, 64, 81, 104, 113, 92 ],\n",
    "     [49, 64, 78, 87, 103, 121, 120, 101],\n",
    "     [72, 92, 95, 98, 112,100, 103, 99]])"
   ]
  },
  {
   "cell_type": "code",
   "execution_count": 9,
   "metadata": {
    "collapsed": false
   },
   "outputs": [],
   "source": [
    "size=img_Y.shape\n",
    "for k in range(size[2]):\n",
    "    for i in range(size[0]/8):\n",
    "        for j in range(size[1]/8):\n",
    "            #DCT transformation\n",
    "            temp=img_Y[i*8:i*8+8,j*8:j*8+8,k]\n",
    "            temp=cv2.dct(temp)\n",
    "            #Quantization\n",
    "            temp=np.multiply(Q,np.round(np.divide(temp,Q)))\n",
    "            temp=cv2.idct(temp)\n",
    "            img_Y[i*8:i*8+8,j*8:j*8+8,k]=temp"
   ]
  },
  {
   "cell_type": "code",
   "execution_count": 10,
   "metadata": {
    "collapsed": false
   },
   "outputs": [],
   "source": [
    "#converting back to rgb\n",
    "img_comp=cv2.cvtColor(np.uint8(img_Y),cv2.COLOR_YCR_CB2RGB)"
   ]
  },
  {
   "cell_type": "code",
   "execution_count": 24,
   "metadata": {
    "collapsed": false
   },
   "outputs": [
    {
     "name": "stdout",
     "output_type": "stream",
     "text": [
      "(1080, 1920, 3)\n"
     ]
    }
   ],
   "source": [
    "plt.figure(0)\n",
    "plt.imshow(img)\n",
    "plt.title('Original')\n",
    "plt.figure(1)\n",
    "plt.imshow(img_comp)\n",
    "plt.title('Compressed')\n",
    "plt.show()\n",
    "\n",
    "cv2.imwrite(path+\"_compressed\",img_comp)\n",
    "\n"
   ]
  }
 ],
 "metadata": {
  "kernelspec": {
   "display_name": "Python 2",
   "language": "python",
   "name": "python2"
  },
  "language_info": {
   "codemirror_mode": {
    "name": "ipython",
    "version": 2
   },
   "file_extension": ".py",
   "mimetype": "text/x-python",
   "name": "python",
   "nbconvert_exporter": "python",
   "pygments_lexer": "ipython2",
   "version": "2.7.12"
  }
 },
 "nbformat": 4,
 "nbformat_minor": 2
}
